{
 "cells": [
  {
   "cell_type": "markdown",
   "id": "a6966eed",
   "metadata": {},
   "source": [
    "# Exemple d'un réseau de neurones apprendant $\\sin(x)$"
   ]
  },
  {
   "cell_type": "code",
   "execution_count": 1,
   "id": "4b90dca1",
   "metadata": {},
   "outputs": [
    {
     "ename": "ModuleNotFoundError",
     "evalue": "No module named 'sklearn'",
     "output_type": "error",
     "traceback": [
      "\u001b[0;31m---------------------------------------------------------------------------\u001b[0m",
      "\u001b[0;31mModuleNotFoundError\u001b[0m                       Traceback (most recent call last)",
      "Cell \u001b[0;32mIn[1], line 3\u001b[0m\n\u001b[1;32m      1\u001b[0m \u001b[38;5;28;01mimport\u001b[39;00m \u001b[38;5;21;01mnumpy\u001b[39;00m \u001b[38;5;28;01mas\u001b[39;00m \u001b[38;5;21;01mnp\u001b[39;00m\n\u001b[1;32m      2\u001b[0m \u001b[38;5;28;01mimport\u001b[39;00m \u001b[38;5;21;01mmath\u001b[39;00m \u001b[38;5;28;01mas\u001b[39;00m \u001b[38;5;21;01mmath\u001b[39;00m\n\u001b[0;32m----> 3\u001b[0m \u001b[38;5;28;01mfrom\u001b[39;00m \u001b[38;5;21;01msklearn\u001b[39;00m\u001b[38;5;21;01m.\u001b[39;00m\u001b[38;5;21;01mutils\u001b[39;00m \u001b[38;5;28;01mimport\u001b[39;00m shuffle\n\u001b[1;32m      4\u001b[0m \u001b[38;5;28;01mfrom\u001b[39;00m \u001b[38;5;21;01msklearn\u001b[39;00m\u001b[38;5;21;01m.\u001b[39;00m\u001b[38;5;21;01mmetrics\u001b[39;00m \u001b[38;5;28;01mimport\u001b[39;00m r2_score\n\u001b[1;32m      5\u001b[0m \u001b[38;5;28;01mimport\u001b[39;00m \u001b[38;5;21;01mmatplotlib\u001b[39;00m\u001b[38;5;21;01m.\u001b[39;00m\u001b[38;5;21;01mpyplot\u001b[39;00m \u001b[38;5;28;01mas\u001b[39;00m \u001b[38;5;21;01mplt\u001b[39;00m\n",
      "\u001b[0;31mModuleNotFoundError\u001b[0m: No module named 'sklearn'"
     ]
    }
   ],
   "source": [
    "import numpy as np\n",
    "import math as math\n",
    "from sklearn.utils import shuffle\n",
    "from sklearn.metrics import r2_score\n",
    "import matplotlib.pyplot as plt\n",
    "import tensorflow as tf\n",
    "from keras.models import Sequential\n",
    "from keras.optimizers import Adam\n",
    "from keras.layers import Input,Dense\n",
    "\n",
    "def split(N,train,valid):\n",
    "    \n",
    "    # Compute sizes\n",
    "    n_train   = 0\n",
    "    n_valid   = math.floor(N*train) + n_train\n",
    "    n_test    = math.floor(N*valid) + n_valid\n",
    "\n",
    "    # Print infos\n",
    "    print('**************')\n",
    "    print('Finished splitting dataset')\n",
    "    print('Training   indices: {} to {}'.format(n_train,n_valid-1))\n",
    "    print('Validation indices: {} to {}'.format(n_valid,n_test-1))\n",
    "    print('Testing    indices: {} to {}'.format(n_test,N-1))\n",
    "    \n",
    "    return n_train,n_valid,n_test\n",
    "#end split"
   ]
  },
  {
   "cell_type": "markdown",
   "id": "3def1bc5",
   "metadata": {},
   "source": [
    "## Constitution de l'ensemble de données"
   ]
  },
  {
   "cell_type": "code",
   "execution_count": null,
   "id": "069ccbdd",
   "metadata": {},
   "outputs": [],
   "source": [
    "N=500\n",
    "x=np.linspace(0.,2.*np.pi,N)\n",
    "x=shuffle(x)\n",
    "epsilon=1.e-1\n",
    "y=np.sin(x)+epsilon*np.random.random(N)"
   ]
  },
  {
   "cell_type": "code",
   "execution_count": null,
   "id": "080e9984",
   "metadata": {},
   "outputs": [],
   "source": [
    "arch=[20]\n",
    "actv='gelu'\n",
    "k_init ='orthogonal'\n",
    "final='linear'\n",
    "annmodel=Sequential()\n",
    "annmodel.add(Input(shape=(1,)))\n",
    "for i in range(len(arch)):\n",
    "    annmodel.add(Dense(arch[i],activation=actv,kernel_initializer=k_init))\n",
    "#end for\n",
    "annmodel.add(Dense(1,activation=final))\n"
   ]
  },
  {
   "cell_type": "code",
   "execution_count": null,
   "id": "8027e6f8",
   "metadata": {},
   "outputs": [],
   "source": [
    "train=0.6\n",
    "valid=0.2\n",
    "\n",
    "n_train,n_valid,n_test=split(N,train,valid)\n",
    "\n",
    "x_train,x_val,x_test=x[n_train:n_valid],x[n_valid:n_test],x[n_test:N]\n",
    "y_train,y_val,y_test=y[n_train:n_valid],y[n_valid:n_test],y[n_test:N]\n",
    "\n",
    "lr=3.e-3\n",
    "annmodel.compile(loss='mse',optimizer=Adam(learning_rate=lr),\\\n",
    "                 metrics=[tf.keras.metrics.RootMeanSquaredError()])\n",
    "epochs=500\n",
    "batch_size=16\n",
    "annmodel.fit(x_train,y_train,epochs=epochs,batch_size=batch_size,\\\n",
    "             validation_data=(x_val,y_val),verbose=1)\n"
   ]
  },
  {
   "cell_type": "code",
   "execution_count": null,
   "id": "afdc6bdc",
   "metadata": {},
   "outputs": [],
   "source": [
    "x1=np.linspace(0.,3.*np.pi,N)\n",
    "yann=annmodel.predict(x1)"
   ]
  },
  {
   "cell_type": "code",
   "execution_count": null,
   "id": "acb24dab",
   "metadata": {},
   "outputs": [],
   "source": [
    "plt.figure()\n",
    "plt.plot(x1,np.sin(x1),'k')\n",
    "plt.plot(x1,yann,'o')"
   ]
  }
 ],
 "metadata": {
  "kernelspec": {
   "display_name": "Python 3 (ipykernel)",
   "language": "python",
   "name": "python3"
  },
  "language_info": {
   "codemirror_mode": {
    "name": "ipython",
    "version": 3
   },
   "file_extension": ".py",
   "mimetype": "text/x-python",
   "name": "python",
   "nbconvert_exporter": "python",
   "pygments_lexer": "ipython3",
   "version": "3.12.3"
  }
 },
 "nbformat": 4,
 "nbformat_minor": 5
}
